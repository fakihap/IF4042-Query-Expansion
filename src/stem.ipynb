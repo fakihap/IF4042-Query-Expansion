{
 "cells": [
  {
   "cell_type": "markdown",
   "metadata": {},
   "source": [
    "# CISI Extraction"
   ]
  },
  {
   "cell_type": "markdown",
   "metadata": {},
   "source": [
    "## Parse Function"
   ]
  },
  {
   "cell_type": "code",
   "execution_count": 2,
   "metadata": {},
   "outputs": [],
   "source": [
    "def parse_cisi_file(filepath):\n",
    "    documents = []\n",
    "    current_doc = {}\n",
    "    current_field = None\n",
    "    buffer = []\n",
    "\n",
    "    with open(filepath, 'r') as f:\n",
    "        for line in f:\n",
    "            line = line.rstrip()\n",
    "\n",
    "            if line.startswith('.I'):\n",
    "                if current_doc:\n",
    "                    if buffer and current_field:\n",
    "                        current_doc[current_field] = '\\n'.join(buffer).strip()\n",
    "                    documents.append(current_doc)\n",
    "\n",
    "                current_doc = {\"id\": int(line.split()[1]), \"references\": []}\n",
    "                current_field = None\n",
    "                buffer = []\n",
    "\n",
    "            elif line.startswith('.T'):\n",
    "                if buffer and current_field:\n",
    "                    current_doc[current_field] = '\\n'.join(buffer).strip()\n",
    "                current_field = 'title'\n",
    "                buffer = []\n",
    "\n",
    "            elif line.startswith('.A'):\n",
    "                if buffer and current_field:\n",
    "                    current_doc[current_field] = '\\n'.join(buffer).strip()\n",
    "                current_field = 'author'\n",
    "                buffer = []\n",
    "\n",
    "            elif line.startswith('.W'):\n",
    "                if buffer and current_field:\n",
    "                    current_doc[current_field] = '\\n'.join(buffer).strip()\n",
    "                current_field = 'abstract'\n",
    "                buffer = []\n",
    "\n",
    "            elif line.startswith('.X'):\n",
    "                if buffer and current_field:\n",
    "                    current_doc[current_field] = '\\n'.join(buffer).strip()\n",
    "                current_field = 'references'\n",
    "                buffer = []\n",
    "\n",
    "            else:\n",
    "                if current_field == 'references':\n",
    "                    if line.strip():  \n",
    "                        parts = line.strip().split()\n",
    "                        if len(parts) == 3:\n",
    "                            ref_id, ref_type, count = map(int, parts)\n",
    "                            current_doc['references'].append(ref_id)\n",
    "                else:\n",
    "                    buffer.append(line)\n",
    "\n",
    "        if current_doc:\n",
    "            if buffer and current_field and current_field != 'references':\n",
    "                current_doc[current_field] = '\\n'.join(buffer).strip()\n",
    "            documents.append(current_doc)\n",
    "\n",
    "    return documents"
   ]
  },
  {
   "cell_type": "markdown",
   "metadata": {},
   "source": [
    "## Process Data"
   ]
  },
  {
   "cell_type": "markdown",
   "metadata": {},
   "source": [
    "### Stemmed"
   ]
  },
  {
   "cell_type": "markdown",
   "metadata": {},
   "source": [
    "#### Full"
   ]
  },
  {
   "cell_type": "code",
   "execution_count": 22,
   "metadata": {},
   "outputs": [],
   "source": [
    "from nltk.stem import PorterStemmer\n",
    "import re\n",
    "\n",
    "data = parse_cisi_file(\"../dataset/cisi.all\")\n",
    "stemmer = PorterStemmer()\n",
    "author_set = set()\n",
    "title_set = set()\n",
    "abstract_set = set()\n",
    "stop_words = set(stopwords.words('english'))\n",
    "\n",
    "def stem(text):\n",
    "    words = re.findall(r'\\b[a-zA-Z]+\\b', text.lower())\n",
    "    return [stemmer.stem(word) for word in words]\n",
    "\n",
    "for item in data:\n",
    "    author = item.get('author', '')\n",
    "    abstract = item.get('abstract', '')\n",
    "    title = item.get('title', '')\n",
    "\n",
    "    if author:\n",
    "        author_set.update(stem(author))\n",
    "    if abstract:\n",
    "        abstract_set.update(stem(abstract))\n",
    "    if title:\n",
    "        title_set.update(stem(title))\n",
    "\n",
    "with open(\"../out/stemmed/full/authors.txt\", \"w\") as f:\n",
    "    f.write(\"\\n\".join(sorted(author_set)))\n",
    "\n",
    "with open(\"../out/stemmed/full/titles.txt\", \"w\") as f:\n",
    "    f.write(\"\\n\".join(sorted(title_set)))\n",
    "\n",
    "with open(\"../out/stemmed/full/abstracts.txt\", \"w\") as f:\n",
    "    f.write(\"\\n\".join(sorted(abstract_set)))\n"
   ]
  },
  {
   "cell_type": "markdown",
   "metadata": {},
   "source": [
    "#### Stop Word Elimination"
   ]
  },
  {
   "cell_type": "code",
   "execution_count": 21,
   "metadata": {},
   "outputs": [
    {
     "name": "stderr",
     "output_type": "stream",
     "text": [
      "[nltk_data] Downloading package stopwords to\n",
      "[nltk_data]     /Users/natthankrish/nltk_data...\n",
      "[nltk_data]   Package stopwords is already up-to-date!\n"
     ]
    }
   ],
   "source": [
    "import re\n",
    "import nltk\n",
    "from nltk.corpus import stopwords\n",
    "from nltk.stem import PorterStemmer\n",
    "\n",
    "nltk.download('stopwords')\n",
    "\n",
    "data = parse_cisi_file(\"../dataset/cisi.all\")\n",
    "stemmer = PorterStemmer()\n",
    "author_set = set()\n",
    "title_set = set()\n",
    "abstract_set = set()\n",
    "\n",
    "def stem(text):\n",
    "    words = re.findall(r'\\b[a-zA-Z]+\\b', text.lower())\n",
    "    return [stemmer.stem(word) for word in words if word not in stop_words]\n",
    "\n",
    "for item in data:\n",
    "    author = item.get('author', '')\n",
    "    abstract = item.get('abstract', '')\n",
    "    title = item.get('title', '')\n",
    "\n",
    "    if author:\n",
    "        author_set.update(stem(author))\n",
    "    if abstract:\n",
    "        abstract_set.update(stem(abstract))\n",
    "    if title:\n",
    "        title_set.update(stem(title))\n",
    "\n",
    "with open(\"../out/stemmed/filtered/authors.txt\", \"w\") as f:\n",
    "    f.write(\"\\n\".join(sorted(author_set)))\n",
    "\n",
    "with open(\"../out/stemmed/filtered/titles.txt\", \"w\") as f:\n",
    "    f.write(\"\\n\".join(sorted(title_set)))\n",
    "\n",
    "with open(\"../out/stemmed/filtered/abstracts.txt\", \"w\") as f:\n",
    "    f.write(\"\\n\".join(sorted(abstract_set)))"
   ]
  },
  {
   "cell_type": "markdown",
   "metadata": {},
   "source": [
    "### Raw Text"
   ]
  },
  {
   "cell_type": "markdown",
   "metadata": {},
   "source": [
    "#### Full"
   ]
  },
  {
   "cell_type": "code",
   "execution_count": null,
   "metadata": {},
   "outputs": [],
   "source": [
    "import re\n",
    "\n",
    "data = parse_cisi_file(\"../dataset/cisi.all\")\n",
    "author_set = set()\n",
    "title_set = set()\n",
    "abstract_set = set()\n",
    "\n",
    "def split(text):\n",
    "    cleaned_text = re.sub(r'[^a-zA-Z\\s]', ' ', text)\n",
    "    cleaned_text = cleaned_text.lower()  \n",
    "    words = [word for word in cleaned_text.split() if word]\n",
    "    return words\n",
    "\n",
    "for item in data:\n",
    "    author = item.get('author', '')\n",
    "    abstract = item.get('abstract', '')\n",
    "    title = item.get('title', '')\n",
    "\n",
    "    if author:\n",
    "        author_set.update(split(author))\n",
    "    if abstract:\n",
    "        abstract_set.update(split(abstract))\n",
    "    if title:\n",
    "        title_set.update(split(title))\n",
    "\n",
    "with open(\"../out/raw/full/authors.txt\", \"w\") as f:\n",
    "    f.write(\"\\n\".join(sorted(author_set)))\n",
    "\n",
    "with open(\"../out/raw/full/titles.txt\", \"w\") as f:\n",
    "    f.write(\"\\n\".join(sorted(title_set)))\n",
    "\n",
    "with open(\"../out/raw/full/abstracts.txt\", \"w\") as f:\n",
    "    f.write(\"\\n\".join(sorted(abstract_set)))\n"
   ]
  },
  {
   "cell_type": "markdown",
   "metadata": {},
   "source": [
    "#### Stop Word Elimination"
   ]
  },
  {
   "cell_type": "code",
   "execution_count": 16,
   "metadata": {},
   "outputs": [
    {
     "name": "stderr",
     "output_type": "stream",
     "text": [
      "[nltk_data] Downloading package stopwords to\n",
      "[nltk_data]     /Users/natthankrish/nltk_data...\n",
      "[nltk_data]   Unzipping corpora/stopwords.zip.\n"
     ]
    }
   ],
   "source": [
    "import re\n",
    "import nltk\n",
    "from nltk.corpus import stopwords\n",
    "\n",
    "data = parse_cisi_file(\"../dataset/cisi.all\")\n",
    "author_set = set()\n",
    "title_set = set()\n",
    "abstract_set = set()\n",
    "stop_words = set(stopwords.words('english'))\n",
    "\n",
    "def split(text):\n",
    "    cleaned_text = re.sub(r'[^a-zA-Z\\s]', ' ', text)\n",
    "    cleaned_text = cleaned_text.lower()  \n",
    "    words = [word for word in cleaned_text.split() if word and word not in stop_words]\n",
    "    return words\n",
    "\n",
    "for item in data:\n",
    "    author = item.get('author', '')\n",
    "    abstract = item.get('abstract', '')\n",
    "    title = item.get('title', '')\n",
    "\n",
    "    if author:\n",
    "        author_set.update(split(author))\n",
    "    if abstract:\n",
    "        abstract_set.update(split(abstract))\n",
    "    if title:\n",
    "        title_set.update(split(title))\n",
    "\n",
    "with open(\"../out/raw/filtered/authors.txt\", \"w\") as f:\n",
    "    f.write(\"\\n\".join(sorted(author_set)))\n",
    "\n",
    "with open(\"../out/raw/filtered/titles.txt\", \"w\") as f:\n",
    "    f.write(\"\\n\".join(sorted(title_set)))\n",
    "\n",
    "with open(\"../out/raw/filtered/abstracts.txt\", \"w\") as f:\n",
    "    f.write(\"\\n\".join(sorted(abstract_set)))"
   ]
  }
 ],
 "metadata": {
  "kernelspec": {
   "display_name": "Python 3",
   "language": "python",
   "name": "python3"
  },
  "language_info": {
   "codemirror_mode": {
    "name": "ipython",
    "version": 3
   },
   "file_extension": ".py",
   "mimetype": "text/x-python",
   "name": "python",
   "nbconvert_exporter": "python",
   "pygments_lexer": "ipython3",
   "version": "3.12.3"
  }
 },
 "nbformat": 4,
 "nbformat_minor": 2
}
